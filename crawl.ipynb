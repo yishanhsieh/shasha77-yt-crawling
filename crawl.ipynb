{
 "cells": [
  {
   "cell_type": "code",
   "execution_count": 3,
   "id": "29ba44a7-fde4-46c1-8224-ab9393a81153",
   "metadata": {},
   "outputs": [],
   "source": [
    "#pip install selenium"
   ]
  },
  {
   "cell_type": "code",
   "execution_count": 1,
   "id": "e99b799c-c15e-40e7-93a1-0c99a09f260b",
   "metadata": {},
   "outputs": [
    {
     "name": "stderr",
     "output_type": "stream",
     "text": [
      "Exception managing chrome: error sending request for url (https://googlechromelabs.github.io/chrome-for-testing/known-good-versions-with-downloads.json)\n"
     ]
    }
   ],
   "source": [
    "from selenium import webdriver\n",
    "from selenium.webdriver.common.by import By\n",
    "import time\n",
    "import pandas as pd\n",
    "\n",
    "driver = webdriver.Chrome()\n",
    "url = 'https://www.youtube.com/@shasha77/videos'\n",
    "driver.get(url)\n",
    "\n",
    "SCROLL_PAUSE_TIME = 3\n",
    "\n",
    "last_height = driver.execute_script(\"return document.documentElement.scrollHeight\")\n",
    "\n",
    "while True:\n",
    "    #Scroll down to bottom\n",
    "    driver.execute_script(\"window.scrollTo(0, arguments[0]);\", last_height)\n",
    "    #Wait to load page\n",
    "    time.sleep(SCROLL_PAUSE_TIME)\n",
    "\n",
    "    new_height = driver.execute_script(\"return document.documentElement.scrollHeight\")\n",
    "    if new_height == last_height:\n",
    "        break\n",
    "    last_height = new_height\n",
    "\n",
    "titles = driver.find_elements(By.ID, \"video-title\")\n",
    "views = driver.find_elements(By.XPATH, '//*[@id=\"metadata-line\"]/span[1]')\n",
    "dates = driver.find_elements(By.XPATH, '//*[@id=\"metadata-line\"]/span[2]')\n",
    "data = []\n",
    "for i, j, k in zip(titles, views, dates):\n",
    "    data.append([i.text, j.text, k.text])\n",
    "\n",
    "df = pd.DataFrame(data, columns = ['title', 'views', 'date'])\n",
    "df.to_csv('youtube_videos_details.csv')\n",
    "\n",
    "driver.quit()"
   ]
  },
  {
   "cell_type": "code",
   "execution_count": 12,
   "id": "b4ee5f77-471a-418b-b751-6ab5dc8be5ff",
   "metadata": {},
   "outputs": [
    {
     "data": {
      "text/plain": [
       "'4.20.0'"
      ]
     },
     "execution_count": 12,
     "metadata": {},
     "output_type": "execute_result"
    }
   ],
   "source": [
    "import selenium\n",
    "selenium.__version__"
   ]
  }
 ],
 "metadata": {
  "kernelspec": {
   "display_name": "Python 3 (ipykernel)",
   "language": "python",
   "name": "python3"
  },
  "language_info": {
   "codemirror_mode": {
    "name": "ipython",
    "version": 3
   },
   "file_extension": ".py",
   "mimetype": "text/x-python",
   "name": "python",
   "nbconvert_exporter": "python",
   "pygments_lexer": "ipython3",
   "version": "3.11.7"
  }
 },
 "nbformat": 4,
 "nbformat_minor": 5
}
